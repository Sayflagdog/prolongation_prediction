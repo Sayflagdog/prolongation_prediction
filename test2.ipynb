{
 "cells": [
  {
   "cell_type": "code",
   "execution_count": 6,
   "metadata": {},
   "outputs": [
    {
     "ename": "AttributeError",
     "evalue": "'DataFrame' object has no attribute 'str'",
     "output_type": "error",
     "traceback": [
      "\u001b[0;31m---------------------------------------------------------------------------\u001b[0m",
      "\u001b[0;31mAttributeError\u001b[0m                            Traceback (most recent call last)",
      "\u001b[0;32m/var/folders/28/ry94lb9x7g9dlmnxp72zr5rr0000gn/T/ipykernel_12069/3220731072.py\u001b[0m in \u001b[0;36m?\u001b[0;34m()\u001b[0m\n\u001b[1;32m     27\u001b[0m \u001b[0;31m# Конвертация сумм в числа\u001b[0m\u001b[0;34m\u001b[0m\u001b[0;34m\u001b[0m\u001b[0m\n\u001b[1;32m     28\u001b[0m \u001b[0;32mfor\u001b[0m \u001b[0mmonth\u001b[0m \u001b[0;32min\u001b[0m \u001b[0mmonth_mapping\u001b[0m\u001b[0;34m.\u001b[0m\u001b[0mvalues\u001b[0m\u001b[0;34m(\u001b[0m\u001b[0;34m)\u001b[0m\u001b[0;34m:\u001b[0m\u001b[0;34m\u001b[0m\u001b[0;34m\u001b[0m\u001b[0m\n\u001b[1;32m     29\u001b[0m     \u001b[0;32mif\u001b[0m \u001b[0mmonth\u001b[0m \u001b[0;32min\u001b[0m \u001b[0mfinancial_data\u001b[0m\u001b[0;34m.\u001b[0m\u001b[0mcolumns\u001b[0m\u001b[0;34m:\u001b[0m\u001b[0;34m\u001b[0m\u001b[0;34m\u001b[0m\u001b[0m\n\u001b[1;32m     30\u001b[0m         financial_data[month] = pd.to_numeric(\n\u001b[0;32m---> 31\u001b[0;31m             \u001b[0mfinancial_data\u001b[0m\u001b[0;34m[\u001b[0m\u001b[0mmonth\u001b[0m\u001b[0;34m]\u001b[0m\u001b[0;34m.\u001b[0m\u001b[0mastype\u001b[0m\u001b[0;34m(\u001b[0m\u001b[0mstr\u001b[0m\u001b[0;34m)\u001b[0m\u001b[0;34m.\u001b[0m\u001b[0mstr\u001b[0m\u001b[0;34m.\u001b[0m\u001b[0mreplace\u001b[0m\u001b[0;34m(\u001b[0m\u001b[0;34m'\\u00a0'\u001b[0m\u001b[0;34m,\u001b[0m \u001b[0;34m''\u001b[0m\u001b[0;34m)\u001b[0m\u001b[0;34m.\u001b[0m\u001b[0mstr\u001b[0m\u001b[0;34m.\u001b[0m\u001b[0mreplace\u001b[0m\u001b[0;34m(\u001b[0m\u001b[0;34m','\u001b[0m\u001b[0;34m,\u001b[0m \u001b[0;34m'.'\u001b[0m\u001b[0;34m)\u001b[0m\u001b[0;34m,\u001b[0m \u001b[0merrors\u001b[0m\u001b[0;34m=\u001b[0m\u001b[0;34m'coerce'\u001b[0m\u001b[0;34m\u001b[0m\u001b[0;34m\u001b[0m\u001b[0m\n\u001b[0m\u001b[1;32m     32\u001b[0m         \u001b[0;34m)\u001b[0m\u001b[0;34m\u001b[0m\u001b[0;34m\u001b[0m\u001b[0m\n\u001b[1;32m     33\u001b[0m \u001b[0;34m\u001b[0m\u001b[0m\n\u001b[1;32m     34\u001b[0m \u001b[0;31m# Объединение данных по ID проекта\u001b[0m\u001b[0;34m\u001b[0m\u001b[0;34m\u001b[0m\u001b[0m\n",
      "\u001b[0;32m/Library/Frameworks/Python.framework/Versions/3.12/lib/python3.12/site-packages/pandas/core/generic.py\u001b[0m in \u001b[0;36m?\u001b[0;34m(self, name)\u001b[0m\n\u001b[1;32m   6295\u001b[0m             \u001b[0;32mand\u001b[0m \u001b[0mname\u001b[0m \u001b[0;32mnot\u001b[0m \u001b[0;32min\u001b[0m \u001b[0mself\u001b[0m\u001b[0;34m.\u001b[0m\u001b[0m_accessors\u001b[0m\u001b[0;34m\u001b[0m\u001b[0;34m\u001b[0m\u001b[0m\n\u001b[1;32m   6296\u001b[0m             \u001b[0;32mand\u001b[0m \u001b[0mself\u001b[0m\u001b[0;34m.\u001b[0m\u001b[0m_info_axis\u001b[0m\u001b[0;34m.\u001b[0m\u001b[0m_can_hold_identifiers_and_holds_name\u001b[0m\u001b[0;34m(\u001b[0m\u001b[0mname\u001b[0m\u001b[0;34m)\u001b[0m\u001b[0;34m\u001b[0m\u001b[0;34m\u001b[0m\u001b[0m\n\u001b[1;32m   6297\u001b[0m         \u001b[0;34m)\u001b[0m\u001b[0;34m:\u001b[0m\u001b[0;34m\u001b[0m\u001b[0;34m\u001b[0m\u001b[0m\n\u001b[1;32m   6298\u001b[0m             \u001b[0;32mreturn\u001b[0m \u001b[0mself\u001b[0m\u001b[0;34m[\u001b[0m\u001b[0mname\u001b[0m\u001b[0;34m]\u001b[0m\u001b[0;34m\u001b[0m\u001b[0;34m\u001b[0m\u001b[0m\n\u001b[0;32m-> 6299\u001b[0;31m         \u001b[0;32mreturn\u001b[0m \u001b[0mobject\u001b[0m\u001b[0;34m.\u001b[0m\u001b[0m__getattribute__\u001b[0m\u001b[0;34m(\u001b[0m\u001b[0mself\u001b[0m\u001b[0;34m,\u001b[0m \u001b[0mname\u001b[0m\u001b[0;34m)\u001b[0m\u001b[0;34m\u001b[0m\u001b[0;34m\u001b[0m\u001b[0m\n\u001b[0m",
      "\u001b[0;31mAttributeError\u001b[0m: 'DataFrame' object has no attribute 'str'"
     ]
    }
   ],
   "source": [
    "import pandas as pd\n",
    "\n",
    "# Пути к файлам\n",
    "\n",
    "\n",
    "# Загрузка данных\n",
    "financial_data = pd.read_csv(\"financial_data.csv\")\n",
    "prolongations = pd.read_csv(\"prolongations.csv\")\n",
    "\n",
    "# Приведение названий колонок к единому виду\n",
    "financial_data.rename(columns={'Account': 'AM'}, inplace=True)\n",
    "\n",
    "# Приведение названий месяцев к единому формату\n",
    "month_mapping = {\n",
    "    'Ноябрь 2022': 'Ноябрь', 'Декабрь 2022': 'Декабрь', 'Январь 2023': 'Январь',\n",
    "    'Февраль 2023': 'Февраль', 'Март 2023': 'Март', 'Апрель 2023': 'Апрель',\n",
    "    'Май 2023': 'Май', 'Июнь 2023': 'Июнь', 'Июль 2023': 'Июль',\n",
    "    'Август 2023': 'Август', 'Сентябрь 2023': 'Сентябрь', 'Октябрь 2023': 'Октябрь',\n",
    "    'Ноябрь 2023': 'Ноябрь', 'Декабрь 2023': 'Декабрь', 'Январь 2024': 'Январь',\n",
    "    'Февраль 2024': 'Февраль'\n",
    "}\n",
    "financial_data.rename(columns=month_mapping, inplace=True)\n",
    "\n",
    "# Приведение `month` в prolongations к нужному формату\n",
    "prolongations['month'] = prolongations['month'].astype(str).str.capitalize().str.replace(r' \\d{4}', '', regex=True)\n",
    "\n",
    "# Конвертация сумм в числа\n",
    "for month in month_mapping.values():\n",
    "    if month in financial_data.columns:\n",
    "        financial_data[month] = pd.to_numeric(\n",
    "            financial_data[month].astype(str).str.replace('\\u00a0', '').str.replace(',', '.'), errors='coerce'\n",
    "        )\n",
    "\n",
    "# Объединение данных по ID проекта\n",
    "merged_data = prolongations.merge(financial_data, on=['id', 'AM'], how='left')\n",
    "\n",
    "# Список месяцев для расчета\n",
    "months = ['Январь', 'Февраль', 'Март', 'Апрель', 'Май', 'Июнь',\n",
    "          'Июль', 'Август', 'Сентябрь', 'Октябрь', 'Ноябрь', 'Декабрь']\n",
    "\n",
    "# Функция расчета коэффициентов пролонгации\n",
    "def calculate_prolongation_coefficients(data, months):\n",
    "    results = []\n",
    "    for i in range(len(months) - 2):\n",
    "        prev_month, first_month, second_month = months[i], months[i+1], months[i+2]\n",
    "        \n",
    "        # Проекты, завершившиеся в предыдущем месяце\n",
    "        completed_projects = data[data['month'] == prev_month]\n",
    "        total_prev_month = completed_projects[prev_month].sum()\n",
    "        \n",
    "        # Пролонгация в первый месяц\n",
    "        first_prolongation = completed_projects.loc[completed_projects[first_month] > 0, first_month].sum()\n",
    "        first_ratio = first_prolongation / total_prev_month if total_prev_month > 0 else 0\n",
    "        \n",
    "        # Проекты, не пролонгированные в первый месяц\n",
    "        non_prolonged = completed_projects.loc[completed_projects[first_month] == 0]\n",
    "        total_non_prolonged = non_prolonged[prev_month].sum()\n",
    "        \n",
    "        # Пролонгация во второй месяц\n",
    "        second_prolongation = non_prolonged.loc[non_prolonged[second_month] > 0, second_month].sum()\n",
    "        second_ratio = second_prolongation / total_non_prolonged if total_non_prolonged > 0 else 0\n",
    "        \n",
    "        results.append({\n",
    "            'Месяц': first_month,\n",
    "            'Коэффициент пролонгации 1 мес': first_ratio,\n",
    "            'Коэффициент пролонгации 2 мес': second_ratio\n",
    "        })\n",
    "    \n",
    "    return pd.DataFrame(results)\n",
    "\n",
    "# Расчет коэффициентов\n",
    "prolongation_report = calculate_prolongation_coefficients(merged_data, months)\n",
    "\n",
    "# Сохранение в Excel\n",
    "prolongation_report.to_excel('prolongation_report.xlsx', index=False)\n",
    "print(\"Отчет успешно создан!\")\n"
   ]
  },
  {
   "cell_type": "code",
   "execution_count": null,
   "metadata": {},
   "outputs": [],
   "source": []
  }
 ],
 "metadata": {
  "kernelspec": {
   "display_name": "Python 3",
   "language": "python",
   "name": "python3"
  },
  "language_info": {
   "codemirror_mode": {
    "name": "ipython",
    "version": 3
   },
   "file_extension": ".py",
   "mimetype": "text/x-python",
   "name": "python",
   "nbconvert_exporter": "python",
   "pygments_lexer": "ipython3",
   "version": "3.12.4"
  }
 },
 "nbformat": 4,
 "nbformat_minor": 2
}
