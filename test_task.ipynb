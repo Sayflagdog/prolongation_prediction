{
 "cells": [
  {
   "cell_type": "code",
   "execution_count": 8,
   "metadata": {},
   "outputs": [
    {
     "name": "stdout",
     "output_type": "stream",
     "text": [
      "Requirement already satisfied: openpyxl in /Library/Frameworks/Python.framework/Versions/3.12/lib/python3.12/site-packages (3.1.5)\n",
      "Requirement already satisfied: et-xmlfile in /Library/Frameworks/Python.framework/Versions/3.12/lib/python3.12/site-packages (from openpyxl) (2.0.0)\n",
      "\n",
      "\u001b[1m[\u001b[0m\u001b[34;49mnotice\u001b[0m\u001b[1;39;49m]\u001b[0m\u001b[39;49m A new release of pip is available: \u001b[0m\u001b[31;49m24.3.1\u001b[0m\u001b[39;49m -> \u001b[0m\u001b[32;49m25.0.1\u001b[0m\n",
      "\u001b[1m[\u001b[0m\u001b[34;49mnotice\u001b[0m\u001b[1;39;49m]\u001b[0m\u001b[39;49m To update, run: \u001b[0m\u001b[32;49mpip install --upgrade pip\u001b[0m\n",
      "Note: you may need to restart the kernel to use updated packages.\n"
     ]
    }
   ],
   "source": [
    "# Ячейка 1: Импорт библиотек\n",
    "import pandas as pd\n",
    "import numpy as np\n",
    "%pip install openpyxl"
   ]
  },
  {
   "cell_type": "code",
   "execution_count": 3,
   "metadata": {},
   "outputs": [],
   "source": [
    "# Ячейка 2: Загрузка данных\n",
    "prolongations = pd.read_csv('prolongations.csv')\n",
    "financial_data = pd.read_csv('financial_data.csv')"
   ]
  },
  {
   "cell_type": "code",
   "execution_count": 4,
   "metadata": {},
   "outputs": [],
   "source": [
    "# Ячейка 3: Предобработка financial_data\n",
    "\n",
    "# Получаем все колонки с месяцами\n",
    "month_columns = [col for col in financial_data.columns if any(month in col for month in [\n",
    "    'Январь', 'Февраль', 'Март', 'Апрель', 'Май', 'Июнь',\n",
    "    'Июль', 'Август', 'Сентябрь', 'Октябрь', 'Ноябрь', 'Декабрь'\n",
    "])]\n",
    "\n",
    "# Функция для очистки числовых значений\n",
    "def clean_numeric(value):\n",
    "    if isinstance(value, str):\n",
    "        # Удаляем все пробелы (включая неразрывные) и заменяем запятые на точки\n",
    "        value = value.replace('\\xa0', '').replace(' ', '').replace(',', '.')\n",
    "        # Обрабатываем текстовые маркеры\n",
    "        if value.lower() in ['стоп', 'вноль', 'вноль', 'end']:\n",
    "            return np.nan\n",
    "    return value\n",
    "\n",
    "# Применяем очистку ко всем колонкам с месяцами\n",
    "for col in month_columns:\n",
    "    financial_data[col] = (\n",
    "        financial_data[col]\n",
    "        .apply(clean_numeric)\n",
    "        .astype(float)\n",
    "    )\n",
    "\n",
    "# Группируем и преобразуем в длинный формат\n",
    "financial_data_clean = financial_data.groupby(['id', 'Account'])[month_columns].sum().reset_index()\n",
    "financial_data_clean = financial_data_clean.melt(\n",
    "    id_vars=['id', 'Account'],\n",
    "    value_vars=month_columns,\n",
    "    var_name='month',\n",
    "    value_name='revenue'\n",
    ")\n",
    "financial_data_clean.rename(columns={'Account': 'AM'}, inplace=True)"
   ]
  },
  {
   "cell_type": "code",
   "execution_count": 5,
   "metadata": {},
   "outputs": [],
   "source": [
    "# Ячейка 4: Объединение данных\n",
    "merged = pd.merge(\n",
    "    prolongations,\n",
    "    financial_data_clean,\n",
    "    on=['id', 'AM'],\n",
    "    how='left'\n",
    ")\n",
    "\n",
    "# Преобразуем месяц окончания проекта в формат \"Месяц Год\"\n",
    "merged['end_month'] = merged['month_x']  # Уже в нужном формате"
   ]
  },
  {
   "cell_type": "code",
   "execution_count": 6,
   "metadata": {},
   "outputs": [
    {
     "name": "stderr",
     "output_type": "stream",
     "text": [
      "/var/folders/28/ry94lb9x7g9dlmnxp72zr5rr0000gn/T/ipykernel_11761/700092053.py:46: DeprecationWarning: DataFrameGroupBy.apply operated on the grouping columns. This behavior is deprecated, and in a future version of pandas the grouping columns will be excluded from the operation. Either pass `include_groups=False` to exclude the groupings or explicitly select the grouping columns after groupby to silence this warning.\n",
      "  managers_report = merged.groupby('AM').apply(calculate_prolongation).reset_index().drop(columns='level_1')\n"
     ]
    }
   ],
   "source": [
    "# Ячейка 5: Расчет коэффициентов пролонгации\n",
    "\n",
    "# Функция для извлечения года и месяца\n",
    "def extract_year_month(s):\n",
    "    parts = s.split()\n",
    "    return f\"{parts[0]} {parts[1]}\"\n",
    "\n",
    "# Создаем словарь для порядка месяцев\n",
    "months_order = [\n",
    "    'Январь 2023', 'Февраль 2023', 'Март 2023', 'Апрель 2023', 'Май 2023', 'Июнь 2023',\n",
    "    'Июль 2023', 'Август 2023', 'Сентябрь 2023', 'Октябрь 2023', 'Ноябрь 2023', 'Декабрь 2023'\n",
    "]\n",
    "\n",
    "def calculate_prolongation(df):\n",
    "    metrics = []\n",
    "    for end_month in months_order:\n",
    "        # Фильтруем проекты, завершившиеся в текущем месяце\n",
    "        projects = df[df['end_month'] == end_month]\n",
    "\n",
    "        # Сумма отгрузки в последний месяц\n",
    "        total_last_month = projects[projects['month_y'] == end_month]['revenue'].sum()\n",
    "\n",
    "        # Коэффициент K1 (пролонгация в первый месяц)\n",
    "        next_month_1 = months_order[(months_order.index(end_month) + 1)] if end_month != 'Декабрь 2023' else None\n",
    "        if next_month_1:\n",
    "            k1 = projects[projects['month_y'] == next_month_1]['revenue'].sum() / total_last_month if total_last_month > 0 else 0\n",
    "        else:\n",
    "            k1 = 0\n",
    "\n",
    "        # Коэффициент K2 (пролонгация во второй месяц)\n",
    "        next_month_2 = months_order[(months_order.index(end_month) + 2)] if end_month not in ['Ноябрь 2023', 'Декабрь 2023'] else None\n",
    "        if next_month_2 and total_last_month > 0:\n",
    "            remaining = total_last_month - projects[projects['month_y'] == next_month_1]['revenue'].sum()\n",
    "            k2 = projects[projects['month_y'] == next_month_2]['revenue'].sum() / remaining if remaining > 0 else 0\n",
    "        else:\n",
    "            k2 = 0\n",
    "\n",
    "        metrics.append({\n",
    "            'end_month': end_month,\n",
    "            'K1': round(k1, 2),\n",
    "            'K2': round(k2, 2)\n",
    "        })\n",
    "    return pd.DataFrame(metrics)\n",
    "\n",
    "# Расчет по менеджерам\n",
    "managers_report = merged.groupby('AM').apply(calculate_prolongation).reset_index().drop(columns='level_1')\n",
    "\n",
    "# Расчет по отделу\n",
    "department_report = calculate_prolongation(merged)"
   ]
  },
  {
   "cell_type": "code",
   "execution_count": 9,
   "metadata": {},
   "outputs": [
    {
     "name": "stdout",
     "output_type": "stream",
     "text": [
      "Managers Report:\n",
      "                               AM      end_month  K1  K2\n",
      "0    Васильев Артем Александрович    Январь 2023   0   0\n",
      "1    Васильев Артем Александрович   Февраль 2023   0   0\n",
      "2    Васильев Артем Александрович      Март 2023   0   0\n",
      "3    Васильев Артем Александрович    Апрель 2023   0   0\n",
      "4    Васильев Артем Александрович       Май 2023   0   0\n",
      "..                            ...            ...  ..  ..\n",
      "115                       без А/М    Август 2023   0   0\n",
      "116                       без А/М  Сентябрь 2023   0   0\n",
      "117                       без А/М   Октябрь 2023   0   0\n",
      "118                       без А/М    Ноябрь 2023   0   0\n",
      "119                       без А/М   Декабрь 2023   0   0\n",
      "\n",
      "[120 rows x 4 columns]\n",
      "Department Report:\n",
      "        end_month  K1  K2\n",
      "0     Январь 2023   0   0\n",
      "1    Февраль 2023   0   0\n",
      "2       Март 2023   0   0\n",
      "3     Апрель 2023   0   0\n",
      "4        Май 2023   0   0\n",
      "5       Июнь 2023   0   0\n",
      "6       Июль 2023   0   0\n",
      "7     Август 2023   0   0\n",
      "8   Сентябрь 2023   0   0\n",
      "9    Октябрь 2023   0   0\n",
      "10    Ноябрь 2023   0   0\n",
      "11   Декабрь 2023   0   0\n"
     ]
    }
   ],
   "source": [
    "# Ячейка 6: Экспорт в Excel\n",
    "\n",
    "\n",
    "# Проверка содержимого DataFrame\n",
    "print(\"Managers Report:\")\n",
    "print(managers_report)\n",
    "\n",
    "print(\"Department Report:\")\n",
    "print(department_report)\n",
    "\n",
    "with pd.ExcelWriter('prolongation_report_final.xlsx') as writer:\n",
    "    managers_report.to_excel(writer, sheet_name='Менеджеры', index=False)\n",
    "    department_report.to_excel(writer, sheet_name='Отдел', index=False)"
   ]
  },
  {
   "cell_type": "code",
   "execution_count": null,
   "metadata": {},
   "outputs": [],
   "source": []
  }
 ],
 "metadata": {
  "kernelspec": {
   "display_name": "Python 3",
   "language": "python",
   "name": "python3"
  },
  "language_info": {
   "codemirror_mode": {
    "name": "ipython",
    "version": 3
   },
   "file_extension": ".py",
   "mimetype": "text/x-python",
   "name": "python",
   "nbconvert_exporter": "python",
   "pygments_lexer": "ipython3",
   "version": "3.12.4"
  }
 },
 "nbformat": 4,
 "nbformat_minor": 2
}
